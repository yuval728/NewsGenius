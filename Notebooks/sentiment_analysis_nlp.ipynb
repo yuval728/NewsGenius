{
  "cells": [
    {
      "cell_type": "code",
      "execution_count": 237,
      "metadata": {
        "execution": {
          "iopub.execute_input": "2024-04-02T10:22:33.929815Z",
          "iopub.status.busy": "2024-04-02T10:22:33.929291Z",
          "iopub.status.idle": "2024-04-02T10:22:46.582434Z",
          "shell.execute_reply": "2024-04-02T10:22:46.581507Z",
          "shell.execute_reply.started": "2024-04-02T10:22:33.929781Z"
        },
        "id": "ef2ArDgyVaO2",
        "trusted": true
      },
      "outputs": [],
      "source": [
        "import numpy as np\n",
        "import pandas as pd\n",
        "import time\n",
        "import matplotlib.pyplot as plt\n"
      ]
    },
    {
      "cell_type": "code",
      "execution_count": 238,
      "metadata": {
        "colab": {
          "base_uri": "https://localhost:8080/",
          "height": 223
        },
        "execution": {
          "iopub.execute_input": "2024-04-02T10:43:19.914640Z",
          "iopub.status.busy": "2024-04-02T10:43:19.913670Z",
          "iopub.status.idle": "2024-04-02T10:43:19.939296Z",
          "shell.execute_reply": "2024-04-02T10:43:19.938131Z",
          "shell.execute_reply.started": "2024-04-02T10:43:19.914610Z"
        },
        "id": "B-MKooxLVaO8",
        "outputId": "3d53624f-6d24-4d5b-a700-fae230c4ae68",
        "trusted": true
      },
      "outputs": [
        {
          "data": {
            "text/html": [
              "<div>\n",
              "<style scoped>\n",
              "    .dataframe tbody tr th:only-of-type {\n",
              "        vertical-align: middle;\n",
              "    }\n",
              "\n",
              "    .dataframe tbody tr th {\n",
              "        vertical-align: top;\n",
              "    }\n",
              "\n",
              "    .dataframe thead th {\n",
              "        text-align: right;\n",
              "    }\n",
              "</style>\n",
              "<table border=\"1\" class=\"dataframe\">\n",
              "  <thead>\n",
              "    <tr style=\"text-align: right;\">\n",
              "      <th></th>\n",
              "      <th>sentiment</th>\n",
              "      <th>text</th>\n",
              "    </tr>\n",
              "  </thead>\n",
              "  <tbody>\n",
              "    <tr>\n",
              "      <th>0</th>\n",
              "      <td>neutral</td>\n",
              "      <td>According to Gran , the company has no plans t...</td>\n",
              "    </tr>\n",
              "    <tr>\n",
              "      <th>1</th>\n",
              "      <td>neutral</td>\n",
              "      <td>Technopolis plans to develop in stages an area...</td>\n",
              "    </tr>\n",
              "    <tr>\n",
              "      <th>2</th>\n",
              "      <td>negative</td>\n",
              "      <td>The international electronic industry company ...</td>\n",
              "    </tr>\n",
              "    <tr>\n",
              "      <th>3</th>\n",
              "      <td>positive</td>\n",
              "      <td>With the new production plant the company woul...</td>\n",
              "    </tr>\n",
              "    <tr>\n",
              "      <th>4</th>\n",
              "      <td>positive</td>\n",
              "      <td>According to the company 's updated strategy f...</td>\n",
              "    </tr>\n",
              "  </tbody>\n",
              "</table>\n",
              "</div>"
            ],
            "text/plain": [
              "  sentiment                                               text\n",
              "0   neutral  According to Gran , the company has no plans t...\n",
              "1   neutral  Technopolis plans to develop in stages an area...\n",
              "2  negative  The international electronic industry company ...\n",
              "3  positive  With the new production plant the company woul...\n",
              "4  positive  According to the company 's updated strategy f..."
            ]
          },
          "execution_count": 238,
          "metadata": {},
          "output_type": "execute_result"
        }
      ],
      "source": [
        "df = pd.read_csv('../Data/all-data.csv', encoding='latin-1', names=['sentiment', 'text'])\n",
        "df.head()"
      ]
    },
    {
      "cell_type": "code",
      "execution_count": 239,
      "metadata": {},
      "outputs": [
        {
          "data": {
            "text/html": [
              "<div>\n",
              "<style scoped>\n",
              "    .dataframe tbody tr th:only-of-type {\n",
              "        vertical-align: middle;\n",
              "    }\n",
              "\n",
              "    .dataframe tbody tr th {\n",
              "        vertical-align: top;\n",
              "    }\n",
              "\n",
              "    .dataframe thead th {\n",
              "        text-align: right;\n",
              "    }\n",
              "</style>\n",
              "<table border=\"1\" class=\"dataframe\">\n",
              "  <thead>\n",
              "    <tr style=\"text-align: right;\">\n",
              "      <th></th>\n",
              "      <th>sentiment</th>\n",
              "      <th>text</th>\n",
              "    </tr>\n",
              "  </thead>\n",
              "  <tbody>\n",
              "    <tr>\n",
              "      <th>0</th>\n",
              "      <td>1</td>\n",
              "      <td>According to Gran , the company has no plans t...</td>\n",
              "    </tr>\n",
              "    <tr>\n",
              "      <th>1</th>\n",
              "      <td>1</td>\n",
              "      <td>Technopolis plans to develop in stages an area...</td>\n",
              "    </tr>\n",
              "    <tr>\n",
              "      <th>2</th>\n",
              "      <td>0</td>\n",
              "      <td>The international electronic industry company ...</td>\n",
              "    </tr>\n",
              "    <tr>\n",
              "      <th>3</th>\n",
              "      <td>2</td>\n",
              "      <td>With the new production plant the company woul...</td>\n",
              "    </tr>\n",
              "    <tr>\n",
              "      <th>4</th>\n",
              "      <td>2</td>\n",
              "      <td>According to the company 's updated strategy f...</td>\n",
              "    </tr>\n",
              "  </tbody>\n",
              "</table>\n",
              "</div>"
            ],
            "text/plain": [
              "   sentiment                                               text\n",
              "0          1  According to Gran , the company has no plans t...\n",
              "1          1  Technopolis plans to develop in stages an area...\n",
              "2          0  The international electronic industry company ...\n",
              "3          2  With the new production plant the company woul...\n",
              "4          2  According to the company 's updated strategy f..."
            ]
          },
          "execution_count": 239,
          "metadata": {},
          "output_type": "execute_result"
        }
      ],
      "source": [
        "# df['sentiment'] = df['sentiment'].astype('category').cat.codes\n",
        "df['sentiment'] = df['sentiment'].map({'positive': 2, 'negative': 0, 'neutral': 1})\n",
        "df.head()"
      ]
    },
    {
      "cell_type": "code",
      "execution_count": 240,
      "metadata": {
        "execution": {
          "iopub.execute_input": "2024-04-02T10:49:28.792807Z",
          "iopub.status.busy": "2024-04-02T10:49:28.791928Z",
          "iopub.status.idle": "2024-04-02T10:49:28.797400Z",
          "shell.execute_reply": "2024-04-02T10:49:28.796332Z",
          "shell.execute_reply.started": "2024-04-02T10:49:28.792774Z"
        },
        "id": "ieKueOvqVaO8",
        "trusted": true
      },
      "outputs": [
        {
          "data": {
            "text/plain": [
              "sentiment\n",
              "1    2879\n",
              "2    1363\n",
              "0     604\n",
              "Name: count, dtype: int64"
            ]
          },
          "execution_count": 240,
          "metadata": {},
          "output_type": "execute_result"
        }
      ],
      "source": [
        "sentiment = df.iloc[:,0]\n",
        "headline = df.iloc[:,1]\n",
        "\n",
        "sentiment.value_counts()"
      ]
    },
    {
      "cell_type": "code",
      "execution_count": 241,
      "metadata": {},
      "outputs": [
        {
          "name": "stdout",
          "output_type": "stream",
          "text": [
            "Class count: 3\n",
            "Class weights: [2.67439294 0.56107445 1.18513084]\n"
          ]
        }
      ],
      "source": [
        "num_classes = df['sentiment'].nunique()\n",
        "print(\"Class count:\", num_classes)\n",
        "total_samples = len(df)\n",
        "\n",
        "class_weights = []\n",
        "for i in range(num_classes):\n",
        "    class_weights.append(total_samples/(num_classes*np.sum(sentiment==i)))\n",
        "class_weights = np.array(class_weights)\n",
        "print(\"Class weights:\", class_weights)\n"
      ]
    },
    {
      "cell_type": "code",
      "execution_count": 242,
      "metadata": {},
      "outputs": [],
      "source": [
        "import torch\n",
        "import torchtext\n",
        "from torch import nn\n",
        "from torch.utils.data import Dataset, DataLoader\n",
        "import torch.nn.functional as F \n",
        "from torch.nn.utils.rnn import pad_sequence\n",
        "from torchtext.data.utils import get_tokenizer\n",
        "from torchtext.vocab import build_vocab_from_iterator\n",
        "from sklearn.metrics import precision_score, recall_score, f1_score, classification_report, confusion_matrix, ConfusionMatrixDisplay\n",
        "\n",
        "torchtext.disable_torchtext_deprecation_warning()"
      ]
    },
    {
      "cell_type": "code",
      "execution_count": 243,
      "metadata": {},
      "outputs": [
        {
          "name": "stdout",
          "output_type": "stream",
          "text": [
            "cpu\n"
          ]
        }
      ],
      "source": [
        "device = torch.device('cuda' if torch.cuda.is_available() else 'cpu')\n",
        "print(device)"
      ]
    },
    {
      "cell_type": "code",
      "execution_count": 244,
      "metadata": {},
      "outputs": [],
      "source": [
        "tokenizer = get_tokenizer('basic_english')\n",
        "vocab = build_vocab_from_iterator(map(tokenizer, headline), specials=['<unk>'])\n",
        "vocab.set_default_index(vocab['<unk>'])\n",
        "# print(vocab.get_stoi())"
      ]
    },
    {
      "cell_type": "code",
      "execution_count": 245,
      "metadata": {},
      "outputs": [
        {
          "data": {
            "text/plain": [
              "10631"
            ]
          },
          "execution_count": 245,
          "metadata": {},
          "output_type": "execute_result"
        }
      ],
      "source": [
        "vocab_size = len(vocab)\n",
        "vocab_size"
      ]
    },
    {
      "cell_type": "code",
      "execution_count": 246,
      "metadata": {},
      "outputs": [],
      "source": [
        "class HeadlineDataset(Dataset):\n",
        "    def __init__(self, texts, labels, vocab, tokenizer):\n",
        "        self.texts = texts\n",
        "        self.labels = labels\n",
        "        self.vocab = vocab\n",
        "        self.tokenizer = tokenizer\n",
        "\n",
        "    def __len__(self):\n",
        "        return len(self.texts)\n",
        "\n",
        "    def __getitem__(self, idx):\n",
        "        text = self.texts[idx]\n",
        "        tokens = self.tokenizer(text)\n",
        "        indices = [self.vocab[token] for token in tokens]\n",
        "        x_tensor = torch.tensor(indices, dtype=torch.long)\n",
        "        y_tensor = torch.tensor(self.labels[idx], dtype=torch.float)\n",
        "        return x_tensor, y_tensor"
      ]
    },
    {
      "cell_type": "code",
      "execution_count": 247,
      "metadata": {},
      "outputs": [],
      "source": [
        "def collate_fn(batch):\n",
        "    texts, labels = zip(*batch)\n",
        "    texts_padded = torch.nn.utils.rnn.pad_sequence(texts, batch_first=True, padding_value=vocab['<unk>'])\n",
        "    labels_tensor = torch.stack(labels)\n",
        "    return texts_padded, labels_tensor"
      ]
    },
    {
      "cell_type": "code",
      "execution_count": 248,
      "metadata": {},
      "outputs": [],
      "source": [
        "X = headline\n",
        "y = sentiment\n",
        "dataset = HeadlineDataset(X, y, vocab, tokenizer)\n",
        "\n",
        "train_size = int(0.85 * len(dataset))\n",
        "test_size = len(dataset) - train_size\n",
        "train_dataset, test_dataset = torch.utils.data.random_split(dataset, [train_size, test_size], generator=torch.Generator().manual_seed(42))\n",
        "\n",
        "train_loader = DataLoader(train_dataset, batch_size=128, shuffle=True, collate_fn=collate_fn)\n",
        "test_loader = DataLoader(test_dataset, batch_size=128, shuffle=False, collate_fn=collate_fn)"
      ]
    },
    {
      "cell_type": "code",
      "execution_count": 249,
      "metadata": {},
      "outputs": [],
      "source": [
        "class LSTM(nn.Module):\n",
        "    def __init__(self, vocab_size, embedding_dim, hidden_dim, num_layers, num_classes):\n",
        "        super(LSTM, self).__init__()\n",
        "        self.embedding = nn.Embedding(vocab_size, embedding_dim)\n",
        "        self.rnn = nn.GRU(embedding_dim, hidden_dim, num_layers, batch_first=True, bidirectional=False, dropout=0.3)\n",
        "        self.fc = nn.Linear(hidden_dim, num_classes)\n",
        "\n",
        "    def forward(self, x):\n",
        "        x = self.embedding(x)\n",
        "        out, _ = self.rnn(x)\n",
        "        out = self.fc(out[:, -1, :])\n",
        "        return out\n"
      ]
    },
    {
      "cell_type": "code",
      "execution_count": 250,
      "metadata": {},
      "outputs": [],
      "source": [
        "class FocalLoss(nn.Module):\n",
        "    def __init__(self, alpha=None, gamma=2, reduction='mean'):\n",
        "        super(FocalLoss, self).__init__()\n",
        "        self.alpha = alpha\n",
        "        self.gamma = gamma\n",
        "        self.reduction = reduction\n",
        "\n",
        "    def forward(self, input, target):\n",
        "        ce_loss = F.cross_entropy(input, target, reduction='none')\n",
        "        pt = torch.exp(-ce_loss)\n",
        "        focal_loss = self.alpha[target] * (1-pt)**self.gamma * ce_loss\n",
        "        if self.reduction == 'mean':\n",
        "            return focal_loss.mean()\n",
        "        elif self.reduction == 'sum':\n",
        "            return focal_loss.sum()\n",
        "        else:\n",
        "            return focal_loss"
      ]
    },
    {
      "cell_type": "code",
      "execution_count": 251,
      "metadata": {},
      "outputs": [
        {
          "data": {
            "text/plain": [
              "tensor([[-0.0044,  0.0108, -0.1262]], grad_fn=<AddmmBackward0>)"
            ]
          },
          "execution_count": 251,
          "metadata": {},
          "output_type": "execute_result"
        }
      ],
      "source": [
        "\n",
        "embedding_dim = 128\n",
        "hidden_dim = 256\n",
        "num_layers = 2\n",
        "num_classes = 3\n",
        "\n",
        "model = LSTM(vocab_size, embedding_dim, hidden_dim, num_layers, num_classes).to(device)\n",
        "model(train_dataset[0][0].unsqueeze(0).to(device))"
      ]
    },
    {
      "cell_type": "code",
      "execution_count": 252,
      "metadata": {},
      "outputs": [],
      "source": [
        "# criterion = nn.CrossEntropyLoss()\n",
        "criterion = FocalLoss(alpha=torch.tensor(class_weights).to(device), gamma=2, reduction='sum')\n",
        "optimizer = torch.optim.Adam(model.parameters(), lr=0.002)\n"
      ]
    },
    {
      "cell_type": "code",
      "execution_count": 253,
      "metadata": {},
      "outputs": [],
      "source": [
        "def train(model, train_loader, criterion, optimizer):\n",
        "    model.train()\n",
        "    running_loss = 0.0\n",
        "    correct = 0\n",
        "    total = 0\n",
        "\n",
        "    for i, (x, y) in enumerate(train_loader):\n",
        "        x, y = x.to(device), y.to(device)\n",
        "        optimizer.zero_grad()\n",
        "        y_pred = model(x)\n",
        "        loss = criterion(y_pred, y.long())\n",
        "        loss.backward()\n",
        "        optimizer.step()\n",
        "\n",
        "        running_loss += loss.item()\n",
        "        _, predicted = torch.max(y_pred.data, 1)\n",
        "        total += y.size(0)\n",
        "        correct += (predicted == y).sum().item()\n",
        "\n",
        "    train_loss = running_loss / len(train_loader)\n",
        "    train_acc = correct / total\n",
        "\n",
        "    return train_loss, train_acc\n",
        "\n",
        "def evaluate(model, test_loader, criterion):\n",
        "    model.eval()\n",
        "    running_loss = 0.0\n",
        "    correct = 0\n",
        "    total = 0\n",
        "    y_true = []\n",
        "    y_preds = []\n",
        "\n",
        "    with torch.inference_mode():\n",
        "        for i, (x, y) in enumerate(test_loader):\n",
        "            x, y = x.to(device), y.to(device)\n",
        "            y_pred = model(x)\n",
        "            loss = criterion(y_pred, y.long())\n",
        "\n",
        "            running_loss += loss.item()\n",
        "            _, predicted = torch.max(y_pred.data, 1)\n",
        "            total += y.size(0)\n",
        "            correct += (predicted == y).sum().item()\n",
        "\n",
        "            y_true += y.tolist()\n",
        "            y_preds += predicted.tolist()\n",
        "            \n",
        "    test_loss = running_loss / len(test_loader)\n",
        "    test_acc = correct / total\n",
        "    test_precision = precision_score(y_true, y_preds, average='macro', zero_division=0)\n",
        "    test_recall = recall_score(y_true, y_preds, average='macro', zero_division=0)\n",
        "    test_f1 = f1_score(y_true, y_preds, average='macro', zero_division=0)\n",
        "    \n",
        "    return test_loss, test_acc, test_precision, test_recall, test_f1\n",
        "\n",
        "    \n",
        "            "
      ]
    },
    {
      "cell_type": "code",
      "execution_count": 254,
      "metadata": {},
      "outputs": [
        {
          "name": "stderr",
          "output_type": "stream",
          "text": [
            " 10%|█         | 1/10 [00:27<04:08, 27.56s/it]"
          ]
        },
        {
          "name": "stdout",
          "output_type": "stream",
          "text": [
            "Epoch: 1/10, Train Loss: 66.6217, Train Acc: 0.2882, Test Loss: 57.9795, Test Acc: 0.1252, Test Precision: 0.1335, Test Recall: 0.2982, Test F1: 0.1202, Time: 27.5554s\n"
          ]
        },
        {
          "name": "stderr",
          "output_type": "stream",
          "text": [
            " 20%|██        | 2/10 [00:53<03:34, 26.78s/it]"
          ]
        },
        {
          "name": "stdout",
          "output_type": "stream",
          "text": [
            "Epoch: 2/10, Train Loss: 61.3471, Train Acc: 0.3052, Test Loss: 56.9562, Test Acc: 0.4072, Test Precision: 0.5999, Test Recall: 0.3956, Test F1: 0.2983, Time: 26.2297s\n"
          ]
        },
        {
          "name": "stderr",
          "output_type": "stream",
          "text": [
            " 30%|███       | 3/10 [01:21<03:09, 27.12s/it]"
          ]
        },
        {
          "name": "stdout",
          "output_type": "stream",
          "text": [
            "Epoch: 3/10, Train Loss: 55.5046, Train Acc: 0.5322, Test Loss: 52.1651, Test Acc: 0.5557, Test Precision: 0.4951, Test Recall: 0.4452, Test F1: 0.4168, Time: 27.5266s\n"
          ]
        },
        {
          "name": "stderr",
          "output_type": "stream",
          "text": [
            " 40%|████      | 4/10 [01:48<02:43, 27.19s/it]"
          ]
        },
        {
          "name": "stdout",
          "output_type": "stream",
          "text": [
            "Epoch: 4/10, Train Loss: 44.4362, Train Acc: 0.6480, Test Loss: 51.7450, Test Acc: 0.5777, Test Precision: 0.4909, Test Recall: 0.4535, Test F1: 0.4323, Time: 27.2932s\n"
          ]
        },
        {
          "name": "stderr",
          "output_type": "stream",
          "text": [
            " 50%|█████     | 5/10 [02:16<02:17, 27.42s/it]"
          ]
        },
        {
          "name": "stdout",
          "output_type": "stream",
          "text": [
            "Epoch: 5/10, Train Loss: 30.4179, Train Acc: 0.7458, Test Loss: 51.4813, Test Acc: 0.6369, Test Precision: 0.5536, Test Recall: 0.5900, Test F1: 0.5491, Time: 27.8297s\n"
          ]
        },
        {
          "name": "stderr",
          "output_type": "stream",
          "text": [
            " 60%|██████    | 6/10 [02:44<01:50, 27.72s/it]"
          ]
        },
        {
          "name": "stdout",
          "output_type": "stream",
          "text": [
            "Epoch: 6/10, Train Loss: 18.7176, Train Acc: 0.8531, Test Loss: 71.6737, Test Acc: 0.6699, Test Precision: 0.5842, Test Recall: 0.5780, Test F1: 0.5804, Time: 28.2857s\n"
          ]
        },
        {
          "name": "stderr",
          "output_type": "stream",
          "text": [
            " 70%|███████   | 7/10 [03:13<01:23, 27.99s/it]"
          ]
        },
        {
          "name": "stdout",
          "output_type": "stream",
          "text": [
            "Epoch: 7/10, Train Loss: 7.9728, Train Acc: 0.9376, Test Loss: 80.0442, Test Acc: 0.6424, Test Precision: 0.5690, Test Recall: 0.6091, Test F1: 0.5828, Time: 28.5584s\n"
          ]
        },
        {
          "name": "stderr",
          "output_type": "stream",
          "text": [
            " 80%|████████  | 8/10 [03:40<00:55, 27.69s/it]"
          ]
        },
        {
          "name": "stdout",
          "output_type": "stream",
          "text": [
            "Epoch: 8/10, Train Loss: 3.3779, Train Acc: 0.9723, Test Loss: 102.0097, Test Acc: 0.6644, Test Precision: 0.6035, Test Recall: 0.6100, Test F1: 0.6050, Time: 27.0439s\n"
          ]
        },
        {
          "name": "stderr",
          "output_type": "stream",
          "text": [
            " 90%|█████████ | 9/10 [04:08<00:27, 27.74s/it]"
          ]
        },
        {
          "name": "stdout",
          "output_type": "stream",
          "text": [
            "Epoch: 9/10, Train Loss: 2.3558, Train Acc: 0.9825, Test Loss: 119.9446, Test Acc: 0.6685, Test Precision: 0.6292, Test Recall: 0.6037, Test F1: 0.6088, Time: 27.8552s\n"
          ]
        },
        {
          "name": "stderr",
          "output_type": "stream",
          "text": [
            "100%|██████████| 10/10 [04:37<00:00, 27.72s/it]"
          ]
        },
        {
          "name": "stdout",
          "output_type": "stream",
          "text": [
            "Epoch: 10/10, Train Loss: 1.1975, Train Acc: 0.9900, Test Loss: 121.9400, Test Acc: 0.6850, Test Precision: 0.6184, Test Recall: 0.6185, Test F1: 0.6184, Time: 28.9811s\n"
          ]
        },
        {
          "name": "stderr",
          "output_type": "stream",
          "text": [
            "\n"
          ]
        }
      ],
      "source": [
        "from tqdm.auto import tqdm\n",
        "\n",
        "\n",
        "num_epochs = 10\n",
        "train_losses = []\n",
        "train_accs = []\n",
        "test_losses = []\n",
        "test_accs = []\n",
        "test_precisions = []\n",
        "test_recalls = []\n",
        "test_f1s = []\n",
        "\n",
        "for epoch in tqdm(range(num_epochs)):\n",
        "    start_time = time.time()\n",
        "    train_loss, train_acc = train(model, train_loader, criterion, optimizer)\n",
        "    test_loss, test_acc, test_precision, test_recall, test_f1 = evaluate(model, test_loader, criterion)\n",
        "\n",
        "    train_losses.append(train_loss)\n",
        "    train_accs.append(train_acc)\n",
        "    test_losses.append(test_loss)\n",
        "    test_accs.append(test_acc)\n",
        "    test_precisions.append(test_precision)\n",
        "    test_recalls.append(test_recall)\n",
        "    test_f1s.append(test_f1)\n",
        "\n",
        "    print(f'Epoch: {epoch+1}/{num_epochs}, Train Loss: {train_loss:.4f}, Train Acc: {train_acc:.4f}, Test Loss: {test_loss:.4f}, Test Acc: {test_acc:.4f}, Test Precision: {test_precision:.4f}, Test Recall: {test_recall:.4f}, Test F1: {test_f1:.4f}, Time: {time.time()-start_time:.4f}s')\n",
        "    "
      ]
    },
    {
      "cell_type": "code",
      "execution_count": 260,
      "metadata": {},
      "outputs": [
        {
          "data": {
            "image/png": "[encoded data removed]",
            "text/plain": [
              "<Figure size 1200x400 with 2 Axes>"
            ]
          },
          "metadata": {},
          "output_type": "display_data"
        }
      ],
      "source": [
        "plt.figure(figsize=(12, 4))\n",
        "plt.subplot(1, 2, 1)\n",
        "plt.plot(train_losses, label='train')\n",
        "plt.plot(test_losses, label='test')\n",
        "plt.xlabel('Epoch')\n",
        "plt.ylabel('Loss')\n",
        "plt.legend()\n",
        "\n",
        "plt.subplot(1, 2, 2)\n",
        "plt.plot(train_accs, label='train')\n",
        "plt.plot(test_accs, label='test')\n",
        "plt.xlabel('Epoch')\n",
        "plt.ylabel('Accuracy')\n",
        "plt.legend()\n",
        "\n",
        "plt.show()"
      ]
    },
    {
      "cell_type": "code",
      "execution_count": 256,
      "metadata": {},
      "outputs": [
        {
          "data": {
            "image/png": "[encoded data removed]",
            "text/plain": [
              "<Figure size 1200x400 with 3 Axes>"
            ]
          },
          "metadata": {},
          "output_type": "display_data"
        }
      ],
      "source": [
        "plt.figure(figsize=(12, 4))\n",
        "plt.subplot(1, 3, 1)\n",
        "plt.plot(test_precisions, label='precision')\n",
        "plt.xlabel('Epoch')\n",
        "plt.ylabel('Precision') \n",
        "plt.legend()\n",
        "\n",
        "plt.subplot(1, 3, 2)\n",
        "plt.plot(test_recalls, label='recall')\n",
        "plt.xlabel('Epoch')\n",
        "plt.ylabel('Recall')\n",
        "plt.legend()\n",
        "\n",
        "plt.subplot(1, 3, 3)\n",
        "plt.plot(test_f1s, label='f1')\n",
        "plt.xlabel('Epoch')\n",
        "plt.ylabel('F1')\n",
        "plt.legend()\n",
        "\n",
        "plt.show()"
      ]
    },
    {
      "cell_type": "code",
      "execution_count": 257,
      "metadata": {},
      "outputs": [
        {
          "name": "stdout",
          "output_type": "stream",
          "text": [
            "              precision    recall  f1-score   support\n",
            "\n",
            "         0.0       0.52      0.53      0.53        85\n",
            "         1.0       0.77      0.78      0.77       442\n",
            "         2.0       0.56      0.55      0.56       200\n",
            "\n",
            "    accuracy                           0.69       727\n",
            "   macro avg       0.62      0.62      0.62       727\n",
            "weighted avg       0.68      0.69      0.68       727\n",
            "\n"
          ]
        },
        {
          "data": {
            "text/plain": [
              "<sklearn.metrics._plot.confusion_matrix.ConfusionMatrixDisplay at 0x2ae50ce06d0>"
            ]
          },
          "execution_count": 257,
          "metadata": {},
          "output_type": "execute_result"
        },
        {
          "data": {
            "image/png": "[encoded data removed]",
            "text/plain": [
              "<Figure size 640x480 with 2 Axes>"
            ]
          },
          "metadata": {},
          "output_type": "display_data"
        }
      ],
      "source": [
        "model.eval()\n",
        "y_true = []\n",
        "y_preds = []\n",
        "\n",
        "with torch.inference_mode():\n",
        "    for i, (x, y) in enumerate(test_loader):\n",
        "        x, y = x.to(device), y.to(device)\n",
        "        y_pred = model(x)\n",
        "        _, predicted = torch.max(y_pred.data, 1)\n",
        "        y_true += y.tolist()\n",
        "        y_preds += predicted.tolist()\n",
        "    \n",
        "print(classification_report(y_true, y_preds))\n",
        "ConfusionMatrixDisplay(confusion_matrix(y_true, y_preds)).plot()"
      ]
    },
    {
      "cell_type": "code",
      "execution_count": 258,
      "metadata": {},
      "outputs": [
        {
          "name": "stdout",
          "output_type": "stream",
          "text": [
            "              precision    recall  f1-score   support\n",
            "\n",
            "         0.0       0.95      1.00      0.97       519\n",
            "         1.0       1.00      1.00      1.00      2437\n",
            "         2.0       1.00      0.97      0.99      1163\n",
            "\n",
            "    accuracy                           0.99      4119\n",
            "   macro avg       0.98      0.99      0.98      4119\n",
            "weighted avg       0.99      0.99      0.99      4119\n",
            "\n"
          ]
        },
        {
          "data": {
            "text/plain": [
              "<sklearn.metrics._plot.confusion_matrix.ConfusionMatrixDisplay at 0x2ae4fe08250>"
            ]
          },
          "execution_count": 258,
          "metadata": {},
          "output_type": "execute_result"
        },
        {
          "data": {
            "image/png": "[encoded data removed]",
            "text/plain": [
              "<Figure size 640x480 with 2 Axes>"
            ]
          },
          "metadata": {},
          "output_type": "display_data"
        }
      ],
      "source": [
        "model.eval()\n",
        "y_true = []\n",
        "y_preds = []\n",
        "\n",
        "with torch.inference_mode():\n",
        "    for i, (x, y) in enumerate(train_loader):\n",
        "        x, y = x.to(device), y.to(device)\n",
        "        y_pred = model(x)\n",
        "        _, predicted = torch.max(y_pred.data, 1)\n",
        "        y_true += y.tolist()\n",
        "        y_preds += predicted.tolist()\n",
        "        \n",
        "print(classification_report(y_true, y_preds))\n",
        "ConfusionMatrixDisplay(confusion_matrix(y_true, y_preds)).plot()\n"
      ]
    },
    {
      "cell_type": "code",
      "execution_count": 259,
      "metadata": {},
      "outputs": [],
      "source": [
        "torch.save(model.state_dict(), 'sentiment.pth')"
      ]
    },
    {
      "cell_type": "code",
      "execution_count": null,
      "metadata": {},
      "outputs": [],
      "source": []
    }
  ],
  "metadata": {
    "accelerator": "GPU",
    "colab": {
      "gpuType": "T4",
      "provenance": []
    },
    "kaggle": {
      "accelerator": "nvidiaTeslaT4",
      "dataSources": [
        {
          "datasetId": 1692,
          "sourceId": 3782728,
          "sourceType": "datasetVersion"
        },
        {
          "datasetId": 4715743,
          "sourceId": 8006834,
          "sourceType": "datasetVersion"
        }
      ],
      "isGpuEnabled": true,
      "isInternetEnabled": true,
      "language": "python",
      "sourceType": "notebook"
    },
    "kernelspec": {
      "display_name": "Python 3",
      "name": "python3"
    },
    "language_info": {
      "codemirror_mode": {
        "name": "ipython",
        "version": 3
      },
      "file_extension": ".py",
      "mimetype": "text/x-python",
      "name": "python",
      "nbconvert_exporter": "python",
      "pygments_lexer": "ipython3",
      "version": "3.11.9"
    }
  },
  "nbformat": 4,
  "nbformat_minor": 0
}
