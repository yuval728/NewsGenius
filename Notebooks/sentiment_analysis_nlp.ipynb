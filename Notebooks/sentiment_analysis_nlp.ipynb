{
  "cells": [
    {
      "cell_type": "code",
      "execution_count": 40,
      "metadata": {
        "execution": {
          "iopub.execute_input": "2024-04-02T10:22:33.929815Z",
          "iopub.status.busy": "2024-04-02T10:22:33.929291Z",
          "iopub.status.idle": "2024-04-02T10:22:46.582434Z",
          "shell.execute_reply": "2024-04-02T10:22:46.581507Z",
          "shell.execute_reply.started": "2024-04-02T10:22:33.929781Z"
        },
        "id": "ef2ArDgyVaO2",
        "trusted": true
      },
      "outputs": [],
      "source": [
        "import numpy as np\n",
        "import pandas as pd\n",
        "import time\n",
        "import matplotlib.pyplot as plt\n"
      ]
    },
    {
      "cell_type": "code",
      "execution_count": 41,
      "metadata": {
        "colab": {
          "base_uri": "https://localhost:8080/",
          "height": 223
        },
        "execution": {
          "iopub.execute_input": "2024-04-02T10:43:19.914640Z",
          "iopub.status.busy": "2024-04-02T10:43:19.913670Z",
          "iopub.status.idle": "2024-04-02T10:43:19.939296Z",
          "shell.execute_reply": "2024-04-02T10:43:19.938131Z",
          "shell.execute_reply.started": "2024-04-02T10:43:19.914610Z"
        },
        "id": "B-MKooxLVaO8",
        "outputId": "3d53624f-6d24-4d5b-a700-fae230c4ae68",
        "trusted": true
      },
      "outputs": [
        {
          "data": {
            "text/html": [
              "<div>\n",
              "<style scoped>\n",
              "    .dataframe tbody tr th:only-of-type {\n",
              "        vertical-align: middle;\n",
              "    }\n",
              "\n",
              "    .dataframe tbody tr th {\n",
              "        vertical-align: top;\n",
              "    }\n",
              "\n",
              "    .dataframe thead th {\n",
              "        text-align: right;\n",
              "    }\n",
              "</style>\n",
              "<table border=\"1\" class=\"dataframe\">\n",
              "  <thead>\n",
              "    <tr style=\"text-align: right;\">\n",
              "      <th></th>\n",
              "      <th>sentiment</th>\n",
              "      <th>text</th>\n",
              "    </tr>\n",
              "  </thead>\n",
              "  <tbody>\n",
              "    <tr>\n",
              "      <th>0</th>\n",
              "      <td>neutral</td>\n",
              "      <td>According to Gran , the company has no plans t...</td>\n",
              "    </tr>\n",
              "    <tr>\n",
              "      <th>1</th>\n",
              "      <td>neutral</td>\n",
              "      <td>Technopolis plans to develop in stages an area...</td>\n",
              "    </tr>\n",
              "    <tr>\n",
              "      <th>2</th>\n",
              "      <td>negative</td>\n",
              "      <td>The international electronic industry company ...</td>\n",
              "    </tr>\n",
              "    <tr>\n",
              "      <th>3</th>\n",
              "      <td>positive</td>\n",
              "      <td>With the new production plant the company woul...</td>\n",
              "    </tr>\n",
              "    <tr>\n",
              "      <th>4</th>\n",
              "      <td>positive</td>\n",
              "      <td>According to the company 's updated strategy f...</td>\n",
              "    </tr>\n",
              "  </tbody>\n",
              "</table>\n",
              "</div>"
            ],
            "text/plain": [
              "  sentiment                                               text\n",
              "0   neutral  According to Gran , the company has no plans t...\n",
              "1   neutral  Technopolis plans to develop in stages an area...\n",
              "2  negative  The international electronic industry company ...\n",
              "3  positive  With the new production plant the company woul...\n",
              "4  positive  According to the company 's updated strategy f..."
            ]
          },
          "execution_count": 41,
          "metadata": {},
          "output_type": "execute_result"
        }
      ],
      "source": [
        "df = pd.read_csv('../Data/all-data.csv', encoding='latin-1', names=['sentiment', 'text'])\n",
        "df.head()"
      ]
    },
    {
      "cell_type": "code",
      "execution_count": 42,
      "metadata": {},
      "outputs": [
        {
          "data": {
            "text/html": [
              "<div>\n",
              "<style scoped>\n",
              "    .dataframe tbody tr th:only-of-type {\n",
              "        vertical-align: middle;\n",
              "    }\n",
              "\n",
              "    .dataframe tbody tr th {\n",
              "        vertical-align: top;\n",
              "    }\n",
              "\n",
              "    .dataframe thead th {\n",
              "        text-align: right;\n",
              "    }\n",
              "</style>\n",
              "<table border=\"1\" class=\"dataframe\">\n",
              "  <thead>\n",
              "    <tr style=\"text-align: right;\">\n",
              "      <th></th>\n",
              "      <th>sentiment</th>\n",
              "      <th>text</th>\n",
              "    </tr>\n",
              "  </thead>\n",
              "  <tbody>\n",
              "    <tr>\n",
              "      <th>0</th>\n",
              "      <td>1</td>\n",
              "      <td>According to Gran , the company has no plans t...</td>\n",
              "    </tr>\n",
              "    <tr>\n",
              "      <th>1</th>\n",
              "      <td>1</td>\n",
              "      <td>Technopolis plans to develop in stages an area...</td>\n",
              "    </tr>\n",
              "    <tr>\n",
              "      <th>2</th>\n",
              "      <td>0</td>\n",
              "      <td>The international electronic industry company ...</td>\n",
              "    </tr>\n",
              "    <tr>\n",
              "      <th>3</th>\n",
              "      <td>2</td>\n",
              "      <td>With the new production plant the company woul...</td>\n",
              "    </tr>\n",
              "    <tr>\n",
              "      <th>4</th>\n",
              "      <td>2</td>\n",
              "      <td>According to the company 's updated strategy f...</td>\n",
              "    </tr>\n",
              "  </tbody>\n",
              "</table>\n",
              "</div>"
            ],
            "text/plain": [
              "   sentiment                                               text\n",
              "0          1  According to Gran , the company has no plans t...\n",
              "1          1  Technopolis plans to develop in stages an area...\n",
              "2          0  The international electronic industry company ...\n",
              "3          2  With the new production plant the company woul...\n",
              "4          2  According to the company 's updated strategy f..."
            ]
          },
          "execution_count": 42,
          "metadata": {},
          "output_type": "execute_result"
        }
      ],
      "source": [
        "# df['sentiment'] = df['sentiment'].astype('category').cat.codes\n",
        "df['sentiment'] = df['sentiment'].map({'positive': 2, 'negative': 0, 'neutral': 1})\n",
        "df.head()"
      ]
    },
    {
      "cell_type": "code",
      "execution_count": 43,
      "metadata": {
        "execution": {
          "iopub.execute_input": "2024-04-02T10:49:28.792807Z",
          "iopub.status.busy": "2024-04-02T10:49:28.791928Z",
          "iopub.status.idle": "2024-04-02T10:49:28.797400Z",
          "shell.execute_reply": "2024-04-02T10:49:28.796332Z",
          "shell.execute_reply.started": "2024-04-02T10:49:28.792774Z"
        },
        "id": "ieKueOvqVaO8",
        "trusted": true
      },
      "outputs": [
        {
          "data": {
            "text/plain": [
              "sentiment\n",
              "1    2879\n",
              "2    1363\n",
              "0     604\n",
              "Name: count, dtype: int64"
            ]
          },
          "execution_count": 43,
          "metadata": {},
          "output_type": "execute_result"
        }
      ],
      "source": [
        "sentiment = df.iloc[:,0]\n",
        "headline = df.iloc[:,1]\n",
        "\n",
        "sentiment.value_counts()"
      ]
    },
    {
      "cell_type": "code",
      "execution_count": 44,
      "metadata": {},
      "outputs": [
        {
          "data": {
            "text/plain": [
              "sentiment\n",
              "0    2879\n",
              "1    2879\n",
              "2    2879\n",
              "Name: count, dtype: int64"
            ]
          },
          "execution_count": 44,
          "metadata": {},
          "output_type": "execute_result"
        }
      ],
      "source": [
        "from sklearn.utils import resample, shuffle\n",
        "\n",
        "neutral = df[df.sentiment == 1]\n",
        "positive = df[df.sentiment == 2]\n",
        "negative = df[df.sentiment == 0]\n",
        "\n",
        "# neutral = resample(neutral,\n",
        "#                                 replace = False, # sample without replacement\n",
        "#                                 n_samples = len(positive), # match minority n\n",
        "#                                 random_state = 27) # reproducible results\n",
        "\n",
        "positive_upsampled = resample(positive,\n",
        "                            replace=True, # sample with replacement\n",
        "                            n_samples=len(neutral), # match number in majority class\n",
        "                            random_state=27) # reproducible results\n",
        "\n",
        "negative_upsampled = resample(negative,\n",
        "                            replace=True, # sample with replacement\n",
        "                            n_samples=len(neutral), # match number in majority class\n",
        "                            random_state=27) # reproducible results\n",
        "\n",
        "df_upsampled = pd.concat([neutral, positive_upsampled, negative_upsampled])\n",
        "\n",
        "df_upsampled = shuffle(df_upsampled)\n",
        "\n",
        "df_upsampled.reset_index(drop=True, inplace=True)\n",
        "\n",
        "df_upsampled.sentiment.value_counts()"
      ]
    },
    {
      "cell_type": "code",
      "execution_count": 45,
      "metadata": {},
      "outputs": [],
      "source": [
        "sentiment = df_upsampled.iloc[:,0]\n",
        "headline = df_upsampled.iloc[:,1]"
      ]
    },
    {
      "cell_type": "code",
      "execution_count": 46,
      "metadata": {},
      "outputs": [
        {
          "name": "stdout",
          "output_type": "stream",
          "text": [
            "Class count: 3\n",
            "Class weights: [0.56107445 0.56107445 0.56107445]\n"
          ]
        }
      ],
      "source": [
        "num_classes = df['sentiment'].nunique()\n",
        "print(\"Class count:\", num_classes)\n",
        "total_samples = len(df)\n",
        "\n",
        "class_weights = []\n",
        "for i in range(num_classes):\n",
        "    class_weights.append(total_samples/(num_classes*np.sum(sentiment==i)))\n",
        "class_weights = np.array(class_weights)\n",
        "print(\"Class weights:\", class_weights)\n"
      ]
    },
    {
      "cell_type": "code",
      "execution_count": 47,
      "metadata": {},
      "outputs": [],
      "source": [
        "import torch\n",
        "import torchtext\n",
        "torchtext.disable_torchtext_deprecation_warning()\n",
        "\n",
        "from torch import nn\n",
        "from torch.utils.data import Dataset, DataLoader\n",
        "import torch.nn.functional as F \n",
        "from torch.nn.utils.rnn import pad_sequence, pack_padded_sequence, pad_packed_sequence\n",
        "from torchtext.data.utils import get_tokenizer\n",
        "from torchtext.vocab import build_vocab_from_iterator\n",
        "from sklearn.metrics import precision_score, recall_score, f1_score, classification_report, confusion_matrix, ConfusionMatrixDisplay\n"
      ]
    },
    {
      "cell_type": "code",
      "execution_count": 48,
      "metadata": {},
      "outputs": [
        {
          "name": "stdout",
          "output_type": "stream",
          "text": [
            "cpu\n"
          ]
        }
      ],
      "source": [
        "device = torch.device('cuda' if torch.cuda.is_available() else 'cpu')\n",
        "print(device)"
      ]
    },
    {
      "cell_type": "code",
      "execution_count": 49,
      "metadata": {},
      "outputs": [],
      "source": [
        "tokenizer = get_tokenizer('basic_english')\n",
        "vocab = build_vocab_from_iterator(map(tokenizer, headline), specials=['<unk>'])\n",
        "vocab.set_default_index(vocab['<unk>'])\n",
        "# print(vocab.get_stoi())"
      ]
    },
    {
      "cell_type": "code",
      "execution_count": 50,
      "metadata": {},
      "outputs": [
        {
          "data": {
            "text/plain": [
              "10444"
            ]
          },
          "execution_count": 50,
          "metadata": {},
          "output_type": "execute_result"
        }
      ],
      "source": [
        "vocab_size = len(vocab)\n",
        "vocab_size"
      ]
    },
    {
      "cell_type": "code",
      "execution_count": 51,
      "metadata": {},
      "outputs": [],
      "source": [
        "class HeadlineDataset(Dataset):\n",
        "    def __init__(self, texts, labels, vocab, tokenizer):\n",
        "        self.texts = texts\n",
        "        self.labels = labels\n",
        "        self.vocab = vocab\n",
        "        self.tokenizer = tokenizer\n",
        "\n",
        "    def __len__(self):\n",
        "        return len(self.texts)\n",
        "\n",
        "    def __getitem__(self, idx):\n",
        "        text = self.texts[idx]\n",
        "        tokens = self.tokenizer(text)\n",
        "        indices = [self.vocab[token] for token in tokens]\n",
        "        x_tensor = torch.tensor(indices, dtype=torch.long)\n",
        "        y_tensor = torch.tensor(self.labels[idx], dtype=torch.float)\n",
        "        return x_tensor, y_tensor"
      ]
    },
    {
      "cell_type": "code",
      "execution_count": 52,
      "metadata": {},
      "outputs": [],
      "source": [
        "def collate_fn(batch):\n",
        "    texts, labels = zip(*batch)\n",
        "    texts_padded = torch.nn.utils.rnn.pad_sequence(texts, batch_first=True, padding_value=vocab['<unk>'])\n",
        "    # texts_padded = pack_padded_sequence\n",
        "    labels_tensor = torch.stack(labels)\n",
        "    return texts_padded, labels_tensor"
      ]
    },
    {
      "cell_type": "code",
      "execution_count": 53,
      "metadata": {},
      "outputs": [],
      "source": [
        "X = headline\n",
        "y = sentiment\n",
        "dataset = HeadlineDataset(X, y, vocab, tokenizer)\n",
        "\n",
        "train_size = int(0.90 * len(dataset))\n",
        "test_size = len(dataset) - train_size\n",
        "train_dataset, test_dataset = torch.utils.data.random_split(dataset, [train_size, test_size], generator=torch.Generator().manual_seed(12))\n",
        "\n",
        "train_loader = DataLoader(train_dataset, batch_size=256, shuffle=True, collate_fn=collate_fn)\n",
        "test_loader = DataLoader(test_dataset, batch_size=256, shuffle=False, collate_fn=collate_fn)"
      ]
    },
    {
      "cell_type": "code",
      "execution_count": 54,
      "metadata": {},
      "outputs": [],
      "source": [
        "class LSTM(nn.Module):\n",
        "    def __init__(self, vocab_size, embedding_dim, hidden_dim, num_layers, num_classes):\n",
        "        super(LSTM, self).__init__()\n",
        "        self.embedding = nn.Embedding(vocab_size, embedding_dim)\n",
        "        self.rnn = nn.GRU(embedding_dim, hidden_dim, num_layers, batch_first=True, bidirectional=False, dropout=0.5)\n",
        "        # self.bn = nn.BatchNorm1d(hidden_dim)\n",
        "        self.fc = nn.Linear(hidden_dim, num_classes)\n",
        "\n",
        "    def forward(self, x):\n",
        "        x = self.embedding(x)\n",
        "        out, _ = self.rnn(x)\n",
        "        out = self.fc(out[:, -1, :])\n",
        "        # out = self.fc(out)\n",
        "        return out\n"
      ]
    },
    {
      "cell_type": "code",
      "execution_count": 55,
      "metadata": {},
      "outputs": [],
      "source": [
        "class FocalLoss(nn.Module):\n",
        "    def __init__(self, alpha=None, gamma=2, reduction='mean'):\n",
        "        super(FocalLoss, self).__init__()\n",
        "        self.alpha = alpha\n",
        "        self.gamma = gamma\n",
        "        self.reduction = reduction\n",
        "\n",
        "    def forward(self, input, target):\n",
        "        ce_loss = F.cross_entropy(input, target, reduction='none')\n",
        "        pt = torch.exp(-ce_loss)\n",
        "        focal_loss = self.alpha[target] * (1-pt)**self.gamma * ce_loss\n",
        "        if self.reduction == 'mean':\n",
        "            return focal_loss.mean()\n",
        "        elif self.reduction == 'sum':\n",
        "            return focal_loss.sum()\n",
        "        else:\n",
        "            return focal_loss"
      ]
    },
    {
      "cell_type": "code",
      "execution_count": 56,
      "metadata": {},
      "outputs": [
        {
          "data": {
            "text/plain": [
              "tensor([[-0.0311,  0.0126,  0.2323]], grad_fn=<AddmmBackward0>)"
            ]
          },
          "execution_count": 56,
          "metadata": {},
          "output_type": "execute_result"
        }
      ],
      "source": [
        "\n",
        "embedding_dim = 100\n",
        "hidden_dim = 128\n",
        "num_layers = 2\n",
        "num_classes = 3\n",
        "\n",
        "torch.manual_seed(12)\n",
        "model = LSTM(vocab_size, embedding_dim, hidden_dim, num_layers, num_classes).to(device)\n",
        "model(train_dataset[0][0].unsqueeze(0).to(device))"
      ]
    },
    {
      "cell_type": "code",
      "execution_count": 57,
      "metadata": {},
      "outputs": [],
      "source": [
        "criterion = nn.CrossEntropyLoss()\n",
        "# criterion = FocalLoss(alpha=torch.tensor(class_weights).to(device), gamma=2, reduction='mean')\n",
        "optimizer = torch.optim.Adam(model.parameters(), lr=0.002, weight_decay=1e-5)\n"
      ]
    },
    {
      "cell_type": "code",
      "execution_count": 58,
      "metadata": {},
      "outputs": [],
      "source": [
        "def train(model, train_loader, criterion, optimizer):\n",
        "    model.train()\n",
        "    running_loss = 0.0\n",
        "    correct = 0\n",
        "    total = 0\n",
        "\n",
        "    for i, (x, y) in enumerate(train_loader):\n",
        "        x, y = x.to(device), y.to(device)\n",
        "        optimizer.zero_grad()\n",
        "        y_pred = model(x)\n",
        "        loss = criterion(y_pred, y.long())\n",
        "        loss.backward()\n",
        "        optimizer.step()\n",
        "\n",
        "        running_loss += loss.item()\n",
        "        _, predicted = torch.max(y_pred.data, 1)\n",
        "        total += y.size(0)\n",
        "        correct += (predicted == y).sum().item()\n",
        "\n",
        "    train_loss = running_loss / len(train_loader)\n",
        "    train_acc = correct / total\n",
        "\n",
        "    return train_loss, train_acc\n",
        "\n",
        "def evaluate(model, test_loader, criterion):\n",
        "    model.eval()\n",
        "    running_loss = 0.0\n",
        "    correct = 0\n",
        "    total = 0\n",
        "    y_true = []\n",
        "    y_preds = []\n",
        "\n",
        "    with torch.inference_mode():\n",
        "        for i, (x, y) in enumerate(test_loader):\n",
        "            x, y = x.to(device), y.to(device)\n",
        "            y_pred = model(x)\n",
        "            loss = criterion(y_pred, y.long())\n",
        "\n",
        "            running_loss += loss.item()\n",
        "            _, predicted = torch.max(y_pred.data, 1)\n",
        "            total += y.size(0)\n",
        "            correct += (predicted == y).sum().item()\n",
        "\n",
        "            y_true += y.tolist()\n",
        "            y_preds += predicted.tolist()\n",
        "            \n",
        "    test_loss = running_loss / len(test_loader)\n",
        "    test_acc = correct / total\n",
        "    test_precision = precision_score(y_true, y_preds, average='macro', zero_division=0)\n",
        "    test_recall = recall_score(y_true, y_preds, average='macro', zero_division=0)\n",
        "    test_f1 = f1_score(y_true, y_preds, average='macro', zero_division=0)\n",
        "    \n",
        "    return test_loss, test_acc, test_precision, test_recall, test_f1\n",
        "\n",
        "    \n",
        "            "
      ]
    },
    {
      "cell_type": "code",
      "execution_count": 59,
      "metadata": {},
      "outputs": [],
      "source": [
        "def save_checkpoint(model, optimizer, epoch, loss, acc, path):\n",
        "    torch.save({\n",
        "        'epoch': epoch,\n",
        "        'model_state_dict': model.state_dict(),\n",
        "        'optimizer_state_dict': optimizer.state_dict(),\n",
        "        'loss': loss,\n",
        "        'acc': acc\n",
        "    }, path)"
      ]
    },
    {
      "cell_type": "code",
      "execution_count": 60,
      "metadata": {},
      "outputs": [
        {
          "name": "stderr",
          "output_type": "stream",
          "text": [
            "  0%|          | 0/20 [00:00<?, ?it/s]"
          ]
        },
        {
          "name": "stdout",
          "output_type": "stream",
          "text": [
            "Epoch: 1/20, Train Loss: 1.1106, Train Acc: 0.3305, Test Loss: 1.0931, Test Acc: 0.3681, Test Precision: 0.2181, Test Recall: 0.3318, Test F1: 0.1842, Time: 23.7461s\n"
          ]
        },
        {
          "name": "stderr",
          "output_type": "stream",
          "text": [
            "  5%|▌         | 1/20 [00:24<07:41, 24.27s/it]"
          ]
        },
        {
          "name": "stdout",
          "output_type": "stream",
          "text": [
            "Epoch: 1/20, Train Loss: 1.1106, Train Acc: 0.3305, Test Loss: 1.0931, Test Acc: 0.3681\n"
          ]
        },
        {
          "name": "stderr",
          "output_type": "stream",
          "text": [
            " 10%|█         | 2/20 [00:48<07:16, 24.24s/it]"
          ]
        },
        {
          "name": "stdout",
          "output_type": "stream",
          "text": [
            "Epoch: 2/20, Train Loss: 1.0820, Train Acc: 0.3769, Test Loss: 1.0156, Test Acc: 0.4850, Test Precision: 0.4679, Test Recall: 0.4590, Test F1: 0.3942, Time: 24.1108s\n",
            "Epoch: 2/20, Train Loss: 1.0820, Train Acc: 0.3769, Test Loss: 1.0156, Test Acc: 0.4850\n"
          ]
        },
        {
          "name": "stderr",
          "output_type": "stream",
          "text": [
            " 15%|█▌        | 3/20 [01:12<06:52, 24.26s/it]"
          ]
        },
        {
          "name": "stdout",
          "output_type": "stream",
          "text": [
            "Epoch: 3/20, Train Loss: 0.9396, Train Acc: 0.5259, Test Loss: 0.8558, Test Acc: 0.6250, Test Precision: 0.6170, Test Recall: 0.6119, Test F1: 0.6075, Time: 24.2577s\n",
            "Epoch: 3/20, Train Loss: 0.9396, Train Acc: 0.5259, Test Loss: 0.8558, Test Acc: 0.6250\n"
          ]
        },
        {
          "name": "stderr",
          "output_type": "stream",
          "text": [
            " 20%|██        | 4/20 [01:37<06:28, 24.27s/it]"
          ]
        },
        {
          "name": "stdout",
          "output_type": "stream",
          "text": [
            "Epoch: 4/20, Train Loss: 0.7144, Train Acc: 0.6843, Test Loss: 0.5849, Test Acc: 0.7431, Test Precision: 0.7436, Test Recall: 0.7367, Test F1: 0.7382, Time: 24.2440s\n",
            "Epoch: 4/20, Train Loss: 0.7144, Train Acc: 0.6843, Test Loss: 0.5849, Test Acc: 0.7431\n"
          ]
        },
        {
          "name": "stderr",
          "output_type": "stream",
          "text": [
            " 25%|██▌       | 5/20 [02:03<06:13, 24.91s/it]"
          ]
        },
        {
          "name": "stdout",
          "output_type": "stream",
          "text": [
            "Epoch: 5/20, Train Loss: 0.4611, Train Acc: 0.8120, Test Loss: 0.4595, Test Acc: 0.8137, Test Precision: 0.8159, Test Recall: 0.8114, Test F1: 0.8107, Time: 26.0104s\n",
            "Epoch: 5/20, Train Loss: 0.4611, Train Acc: 0.8120, Test Loss: 0.4595, Test Acc: 0.8137\n"
          ]
        },
        {
          "name": "stderr",
          "output_type": "stream",
          "text": [
            " 30%|███       | 6/20 [02:28<05:49, 24.97s/it]"
          ]
        },
        {
          "name": "stdout",
          "output_type": "stream",
          "text": [
            "Epoch: 6/20, Train Loss: 0.2949, Train Acc: 0.8935, Test Loss: 0.4156, Test Acc: 0.8484, Test Precision: 0.8542, Test Recall: 0.8482, Test F1: 0.8436, Time: 25.0770s\n",
            "Epoch: 6/20, Train Loss: 0.2949, Train Acc: 0.8935, Test Loss: 0.4156, Test Acc: 0.8484\n"
          ]
        },
        {
          "name": "stderr",
          "output_type": "stream",
          "text": [
            " 35%|███▌      | 7/20 [02:53<05:28, 25.24s/it]"
          ]
        },
        {
          "name": "stdout",
          "output_type": "stream",
          "text": [
            "Epoch: 7/20, Train Loss: 0.2167, Train Acc: 0.9278, Test Loss: 0.3180, Test Acc: 0.8981, Test Precision: 0.8934, Test Recall: 0.8946, Test F1: 0.8937, Time: 25.7494s\n",
            "Epoch: 7/20, Train Loss: 0.2167, Train Acc: 0.9278, Test Loss: 0.3180, Test Acc: 0.8981\n"
          ]
        },
        {
          "name": "stderr",
          "output_type": "stream",
          "text": [
            " 40%|████      | 8/20 [03:21<05:12, 26.07s/it]"
          ]
        },
        {
          "name": "stdout",
          "output_type": "stream",
          "text": [
            "Epoch: 8/20, Train Loss: 0.1214, Train Acc: 0.9645, Test Loss: 0.3410, Test Acc: 0.9028, Test Precision: 0.8997, Test Recall: 0.9003, Test F1: 0.8978, Time: 27.8104s\n",
            "Epoch: 8/20, Train Loss: 0.1214, Train Acc: 0.9645, Test Loss: 0.3410, Test Acc: 0.9028\n"
          ]
        },
        {
          "name": "stderr",
          "output_type": "stream",
          "text": [
            " 45%|████▌     | 9/20 [03:50<04:57, 27.01s/it]"
          ]
        },
        {
          "name": "stdout",
          "output_type": "stream",
          "text": [
            "Epoch: 9/20, Train Loss: 0.0852, Train Acc: 0.9772, Test Loss: 0.2662, Test Acc: 0.9201, Test Precision: 0.9159, Test Recall: 0.9165, Test F1: 0.9160, Time: 29.0417s\n",
            "Epoch: 9/20, Train Loss: 0.0852, Train Acc: 0.9772, Test Loss: 0.2662, Test Acc: 0.9201\n"
          ]
        },
        {
          "name": "stderr",
          "output_type": "stream",
          "text": [
            " 50%|█████     | 10/20 [04:21<04:40, 28.03s/it]"
          ]
        },
        {
          "name": "stdout",
          "output_type": "stream",
          "text": [
            "Epoch: 10/20, Train Loss: 0.0627, Train Acc: 0.9844, Test Loss: 0.3888, Test Acc: 0.9051\n"
          ]
        },
        {
          "name": "stderr",
          "output_type": "stream",
          "text": [
            " 55%|█████▌    | 11/20 [04:52<04:20, 28.95s/it]"
          ]
        },
        {
          "name": "stdout",
          "output_type": "stream",
          "text": [
            "Epoch: 11/20, Train Loss: 0.0469, Train Acc: 0.9897, Test Loss: 0.4089, Test Acc: 0.9016\n"
          ]
        },
        {
          "name": "stderr",
          "output_type": "stream",
          "text": [
            " 60%|██████    | 12/20 [05:20<03:50, 28.79s/it]"
          ]
        },
        {
          "name": "stdout",
          "output_type": "stream",
          "text": [
            "Epoch: 12/20, Train Loss: 0.0439, Train Acc: 0.9895, Test Loss: 0.3487, Test Acc: 0.9109\n"
          ]
        },
        {
          "name": "stderr",
          "output_type": "stream",
          "text": [
            " 65%|██████▌   | 13/20 [05:47<03:16, 28.12s/it]"
          ]
        },
        {
          "name": "stdout",
          "output_type": "stream",
          "text": [
            "Epoch: 13/20, Train Loss: 0.0547, Train Acc: 0.9840, Test Loss: 0.3800, Test Acc: 0.9062\n"
          ]
        },
        {
          "name": "stderr",
          "output_type": "stream",
          "text": [
            " 70%|███████   | 14/20 [06:12<02:43, 27.21s/it]"
          ]
        },
        {
          "name": "stdout",
          "output_type": "stream",
          "text": [
            "Epoch: 14/20, Train Loss: 0.0239, Train Acc: 0.9949, Test Loss: 0.3629, Test Acc: 0.9294, Test Precision: 0.9261, Test Recall: 0.9268, Test F1: 0.9258, Time: 25.0746s\n",
            "Epoch: 14/20, Train Loss: 0.0239, Train Acc: 0.9949, Test Loss: 0.3629, Test Acc: 0.9294\n"
          ]
        },
        {
          "name": "stderr",
          "output_type": "stream",
          "text": [
            " 75%|███████▌  | 15/20 [06:38<02:14, 26.84s/it]"
          ]
        },
        {
          "name": "stdout",
          "output_type": "stream",
          "text": [
            "Epoch: 15/20, Train Loss: 0.0275, Train Acc: 0.9946, Test Loss: 0.3593, Test Acc: 0.9178\n"
          ]
        },
        {
          "name": "stderr",
          "output_type": "stream",
          "text": [
            " 80%|████████  | 16/20 [07:03<01:45, 26.41s/it]"
          ]
        },
        {
          "name": "stdout",
          "output_type": "stream",
          "text": [
            "Epoch: 16/20, Train Loss: 0.0214, Train Acc: 0.9958, Test Loss: 0.4797, Test Acc: 0.9039\n"
          ]
        },
        {
          "name": "stderr",
          "output_type": "stream",
          "text": [
            " 85%|████████▌ | 17/20 [07:28<01:18, 26.05s/it]"
          ]
        },
        {
          "name": "stdout",
          "output_type": "stream",
          "text": [
            "Epoch: 17/20, Train Loss: 0.0269, Train Acc: 0.9941, Test Loss: 0.3831, Test Acc: 0.9201\n"
          ]
        },
        {
          "name": "stderr",
          "output_type": "stream",
          "text": [
            " 90%|█████████ | 18/20 [07:56<00:52, 26.36s/it]"
          ]
        },
        {
          "name": "stdout",
          "output_type": "stream",
          "text": [
            "Epoch: 18/20, Train Loss: 0.0123, Train Acc: 0.9974, Test Loss: 0.4213, Test Acc: 0.9155\n"
          ]
        },
        {
          "name": "stderr",
          "output_type": "stream",
          "text": [
            " 95%|█████████▌| 19/20 [08:22<00:26, 26.54s/it]"
          ]
        },
        {
          "name": "stdout",
          "output_type": "stream",
          "text": [
            "Epoch: 19/20, Train Loss: 0.0103, Train Acc: 0.9982, Test Loss: 0.4170, Test Acc: 0.9190\n"
          ]
        },
        {
          "name": "stderr",
          "output_type": "stream",
          "text": [
            "100%|██████████| 20/20 [08:49<00:00, 26.46s/it]"
          ]
        },
        {
          "name": "stdout",
          "output_type": "stream",
          "text": [
            "Epoch: 20/20, Train Loss: 0.0069, Train Acc: 0.9988, Test Loss: 0.4210, Test Acc: 0.9248\n"
          ]
        },
        {
          "name": "stderr",
          "output_type": "stream",
          "text": [
            "\n"
          ]
        }
      ],
      "source": [
        "from tqdm.auto import tqdm\n",
        "\n",
        "\n",
        "num_epochs = 20\n",
        "train_losses = []\n",
        "train_accs = []\n",
        "test_losses = []\n",
        "test_accs = []\n",
        "test_precisions = []\n",
        "test_recalls = []\n",
        "test_f1s = []\n",
        "\n",
        "for epoch in tqdm(range(num_epochs)):\n",
        "    start_time = time.time()\n",
        "    train_loss, train_acc = train(model, train_loader, criterion, optimizer)\n",
        "    test_loss, test_acc, test_precision, test_recall, test_f1 = evaluate(model, test_loader, criterion)\n",
        "\n",
        "\n",
        "    train_losses.append(train_loss)\n",
        "    train_accs.append(train_acc)\n",
        "    test_losses.append(test_loss)\n",
        "    test_accs.append(test_acc)\n",
        "    test_precisions.append(test_precision)\n",
        "    test_recalls.append(test_recall)\n",
        "    test_f1s.append(test_f1)\n",
        "\n",
        "    if test_acc >=max(test_accs): \n",
        "        print(f'Epoch: {epoch+1}/{num_epochs}, Train Loss: {train_loss:.4f}, Train Acc: {train_acc:.4f}, Test Loss: {test_loss:.4f}, Test Acc: {test_acc:.4f}, Test Precision: {test_precision:.4f}, Test Recall: {test_recall:.4f}, Test F1: {test_f1:.4f}, Time: {time.time()-start_time:.4f}s')\n",
        "        save_checkpoint(model, optimizer, epoch, test_loss, test_acc, 'best_model.pth')\n",
        "    \n",
        "    else:\n",
        "        print(f'Epoch: {epoch+1}/{num_epochs}, Train Loss: {train_loss:.4f}, Train Acc: {train_acc:.4f}, Test Loss: {test_loss:.4f}, Test Acc: {test_acc:.4f}')"
      ]
    },
    {
      "cell_type": "code",
      "execution_count": 61,
      "metadata": {},
      "outputs": [
        {
          "data": {
            "image/png": "[encoded data removed]",
            "text/plain": [
              "<Figure size 1200x400 with 2 Axes>"
            ]
          },
          "metadata": {},
          "output_type": "display_data"
        }
      ],
      "source": [
        "plt.figure(figsize=(12, 4))\n",
        "plt.subplot(1, 2, 1)\n",
        "plt.plot(train_losses, label='train')\n",
        "plt.plot(test_losses, label='test')\n",
        "plt.xlabel('Epoch')\n",
        "plt.ylabel('Loss')\n",
        "plt.legend()\n",
        "\n",
        "plt.subplot(1, 2, 2)\n",
        "plt.plot(train_accs, label='train')\n",
        "plt.plot(test_accs, label='test')\n",
        "plt.xlabel('Epoch')\n",
        "plt.ylabel('Accuracy')\n",
        "plt.legend()\n",
        "\n",
        "plt.show()"
      ]
    },
    {
      "cell_type": "code",
      "execution_count": 62,
      "metadata": {},
      "outputs": [
        {
          "data": {
            "image/png": "[encoded data removed]",
            "text/plain": [
              "<Figure size 1200x400 with 3 Axes>"
            ]
          },
          "metadata": {},
          "output_type": "display_data"
        }
      ],
      "source": [
        "plt.figure(figsize=(12, 4))\n",
        "plt.subplot(1, 3, 1)\n",
        "plt.plot(test_precisions, label='precision')\n",
        "plt.xlabel('Epoch')\n",
        "plt.ylabel('Precision') \n",
        "plt.legend()\n",
        "\n",
        "plt.subplot(1, 3, 2)\n",
        "plt.plot(test_recalls, label='recall')\n",
        "plt.xlabel('Epoch')\n",
        "plt.ylabel('Recall')\n",
        "plt.legend()\n",
        "\n",
        "plt.subplot(1, 3, 3)\n",
        "plt.plot(test_f1s, label='f1')\n",
        "plt.xlabel('Epoch')\n",
        "plt.ylabel('F1')\n",
        "plt.legend()\n",
        "\n",
        "plt.show()"
      ]
    },
    {
      "cell_type": "code",
      "execution_count": 66,
      "metadata": {},
      "outputs": [
        {
          "data": {
            "text/plain": [
              "<All keys matched successfully>"
            ]
          },
          "execution_count": 66,
          "metadata": {},
          "output_type": "execute_result"
        }
      ],
      "source": [
        "best_model = LSTM(vocab_size, embedding_dim, hidden_dim, num_layers, num_classes).to(device)\n",
        "checkpoint = torch.load('best_model.pth')\n",
        "best_model.load_state_dict(checkpoint['model_state_dict'])"
      ]
    },
    {
      "cell_type": "code",
      "execution_count": 67,
      "metadata": {},
      "outputs": [
        {
          "name": "stdout",
          "output_type": "stream",
          "text": [
            "              precision    recall  f1-score   support\n",
            "\n",
            "    negative       0.96      1.00      0.98       320\n",
            "     neutral       0.94      0.87      0.90       295\n",
            "    positive       0.88      0.92      0.90       249\n",
            "\n",
            "    accuracy                           0.93       864\n",
            "   macro avg       0.93      0.93      0.93       864\n",
            "weighted avg       0.93      0.93      0.93       864\n",
            "\n"
          ]
        },
        {
          "data": {
            "text/plain": [
              "<sklearn.metrics._plot.confusion_matrix.ConfusionMatrixDisplay at 0x1bbcaa852d0>"
            ]
          },
          "execution_count": 67,
          "metadata": {},
          "output_type": "execute_result"
        },
        {
          "data": {
            "image/png": "[encoded data removed]",
            "text/plain": [
              "<Figure size 640x480 with 2 Axes>"
            ]
          },
          "metadata": {},
          "output_type": "display_data"
        }
      ],
      "source": [
        "best_model.eval()\n",
        "y_true = []\n",
        "y_preds = []\n",
        "\n",
        "with torch.inference_mode():\n",
        "    for i, (x, y) in enumerate(test_loader):\n",
        "        x, y = x.to(device), y.to(device)\n",
        "        y_pred = best_model(x)\n",
        "        _, predicted = torch.max(y_pred.data, 1)\n",
        "        y_true += y.tolist()\n",
        "        y_preds += predicted.tolist()\n",
        "    \n",
        "print(classification_report(y_true, y_preds, target_names=['negative', 'neutral', 'positive']))\n",
        "ConfusionMatrixDisplay(confusion_matrix(y_true, y_preds), display_labels=['negative', 'neutral', 'positive']).plot()"
      ]
    },
    {
      "cell_type": "code",
      "execution_count": 68,
      "metadata": {},
      "outputs": [
        {
          "name": "stdout",
          "output_type": "stream",
          "text": [
            "              precision    recall  f1-score   support\n",
            "\n",
            "    negative       1.00      1.00      1.00      2559\n",
            "     neutral       1.00      1.00      1.00      2584\n",
            "    positive       1.00      0.99      1.00      2630\n",
            "\n",
            "    accuracy                           1.00      7773\n",
            "   macro avg       1.00      1.00      1.00      7773\n",
            "weighted avg       1.00      1.00      1.00      7773\n",
            "\n"
          ]
        },
        {
          "data": {
            "text/plain": [
              "<sklearn.metrics._plot.confusion_matrix.ConfusionMatrixDisplay at 0x1bbd03a06d0>"
            ]
          },
          "execution_count": 68,
          "metadata": {},
          "output_type": "execute_result"
        },
        {
          "data": {
            "image/png": "[encoded data removed]",
            "text/plain": [
              "<Figure size 640x480 with 2 Axes>"
            ]
          },
          "metadata": {},
          "output_type": "display_data"
        }
      ],
      "source": [
        "best_model.eval()\n",
        "y_true = []\n",
        "y_preds = []\n",
        "\n",
        "with torch.inference_mode():\n",
        "    for i, (x, y) in enumerate(train_loader):\n",
        "        x, y = x.to(device), y.to(device)\n",
        "        y_pred = best_model(x)\n",
        "        _, predicted = torch.max(y_pred.data, 1)\n",
        "        y_true += y.tolist()\n",
        "        y_preds += predicted.tolist()\n",
        "        \n",
        "print(classification_report(y_true, y_preds, target_names=['negative', 'neutral', 'positive']))\n",
        "ConfusionMatrixDisplay(confusion_matrix(y_true, y_preds), display_labels=['negative', 'neutral', 'positive']).plot()\n"
      ]
    },
    {
      "cell_type": "code",
      "execution_count": 65,
      "metadata": {},
      "outputs": [],
      "source": [
        "torch.save(model.state_dict(), 'sentiment.pth')"
      ]
    },
    {
      "cell_type": "code",
      "execution_count": null,
      "metadata": {},
      "outputs": [],
      "source": []
    }
  ],
  "metadata": {
    "accelerator": "GPU",
    "colab": {
      "gpuType": "T4",
      "provenance": []
    },
    "kaggle": {
      "accelerator": "nvidiaTeslaT4",
      "dataSources": [
        {
          "datasetId": 1692,
          "sourceId": 3782728,
          "sourceType": "datasetVersion"
        },
        {
          "datasetId": 4715743,
          "sourceId": 8006834,
          "sourceType": "datasetVersion"
        }
      ],
      "isGpuEnabled": true,
      "isInternetEnabled": true,
      "language": "python",
      "sourceType": "notebook"
    },
    "kernelspec": {
      "display_name": "Python 3",
      "name": "python3"
    },
    "language_info": {
      "codemirror_mode": {
        "name": "ipython",
        "version": 3
      },
      "file_extension": ".py",
      "mimetype": "text/x-python",
      "name": "python",
      "nbconvert_exporter": "python",
      "pygments_lexer": "ipython3",
      "version": "3.11.9"
    }
  },
  "nbformat": 4,
  "nbformat_minor": 0
}
